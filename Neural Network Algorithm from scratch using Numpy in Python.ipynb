{
 "cells": [
  {
   "cell_type": "markdown",
   "metadata": {},
   "source": [
    "We create a basic Multilayer Perceptron Regression Neural Network Model using matrix algebra and gradient descent concepts.\n",
    "\n",
    "3 inputs each with 4 binary features (1,0,1,0), (1,0,1,1), (0,1,0,1) train the model for the target outputs 1,1,0 respectively \n",
    "\n",
    "We consider 1 hidden layer with 3 neurons and 5 different epoch values have been chosen for a single learning rate of 0.1.\n",
    "\n",
    "We can see that the acuuracy of the model is increasing with increasing number of epochs. \n",
    "\n",
    "Happy Learning!"
   ]
  },
  {
   "cell_type": "code",
   "execution_count": 24,
   "metadata": {},
   "outputs": [
    {
     "name": "stdout",
     "output_type": "stream",
     "text": [
      "\n",
      "Output with Epoch =  5\n",
      "[[0.75601396]\n",
      " [0.76515003]\n",
      " [0.74297056]]\n",
      "\n",
      "Output with Epoch =  50\n",
      "[[0.68536655]\n",
      " [0.69163481]\n",
      " [0.66244946]]\n",
      "\n",
      "Output with Epoch =  500\n",
      "[[0.88134859]\n",
      " [0.84425538]\n",
      " [0.23435504]]\n",
      "\n",
      "Output with Epoch =  5000\n",
      "[[0.98464446]\n",
      " [0.97673551]\n",
      " [0.03263323]]\n",
      "\n",
      "Output with Epoch =  10000\n",
      "[[0.99146004]\n",
      " [0.9870346 ]\n",
      " [0.0180287 ]]\n"
     ]
    }
   ],
   "source": [
    "import numpy as np\n",
    "\n",
    "#Input array - 3 observations with 4 features\n",
    "X=np.array([[1,0,1,0], [1,0,1,1], [0,1,0,1]])\n",
    "\n",
    "#Output vetor\n",
    "y = np.array ([[1],[1],[0]])\n",
    "\n",
    "#Defining Sigmoid Function\n",
    "def sigmoid (x):\n",
    "    return 1/(1 + np.exp(-x))\n",
    "\n",
    "#Derivative of Sigmoid Function\n",
    "def derivative_sigmoid(x):\n",
    "    return x*(1-x)\n",
    "\n",
    "#Variable Initialization\n",
    "epoch = [5,50,500,5000,10000]     #number of training iterations\n",
    "lr = 0.1            #Learing Rate\n",
    "inputlayer_neurons= X.shape[1]    #number of features in dataset\n",
    "hiddenlayer_neurons = 3           #number of hidden layers neurons\n",
    "output_neurons = 1                #number of neurons at output layer\n",
    "\n",
    "#weight and bias initialization with random values\n",
    "wh = np.random.uniform(size = (inputlayer_neurons, hiddenlayer_neurons))\n",
    "bh = np.random.uniform(size= (1,hiddenlayer_neurons))\n",
    "wout = np.random.uniform(size= (hiddenlayer_neurons, output_neurons))\n",
    "bout = np.random.uniform(size = (1,output_neurons))\n",
    "\n",
    "for j in epoch:\n",
    "    for i in range(j):\n",
    "    \n",
    "        #Forward Propagation\n",
    "        hidden_layer_input = np.dot(X,wh) + bh\n",
    "        hiddenlayer_activation = sigmoid(hidden_layer_input)\n",
    "        output_layer_input = np.dot(hiddenlayer_activation, wout) + bout\n",
    "        output = sigmoid(output_layer_input)\n",
    "    \n",
    "        #Back Propagation\n",
    "        E = y - output    #gradient of the erro\n",
    "        slope_output_layer = derivative_sigmoid(output)\n",
    "        slope_hidden_layer = derivative_sigmoid(hiddenlayer_activation)\n",
    "        d_output = E*slope_output_layer\n",
    "        Error_at_hidden_layer = np.dot(d_output, wout.T)\n",
    "        d_hiddenlayer = Error_at_hidden_layer*slope_hidden_layer\n",
    "    \n",
    "        #Updating the weights for hidden layer and output layer\n",
    "        wout += hiddenlayer_activation.T.dot(d_output)*lr\n",
    "        bout += np.sum(d_output,axis=0, keepdims=True)*lr\n",
    "        wh += X.T.dot(d_hiddenlayer)*lr\n",
    "        bh += np.sum(d_hiddenlayer, axis= 0, keepdims=True)*lr\n",
    "    \n",
    "    print('\\nOutput with Epoch = ',j)\n",
    "    print(output)\n",
    "    "
   ]
  },
  {
   "cell_type": "markdown",
   "metadata": {},
   "source": [
    "We see that the output is coming closer to the actual target values [1,1,0] with increasing number of iterations or 'epoch'"
   ]
  },
  {
   "cell_type": "code",
   "execution_count": null,
   "metadata": {},
   "outputs": [],
   "source": []
  }
 ],
 "metadata": {
  "kernelspec": {
   "display_name": "Python 3",
   "language": "python",
   "name": "python3"
  },
  "language_info": {
   "codemirror_mode": {
    "name": "ipython",
    "version": 3
   },
   "file_extension": ".py",
   "mimetype": "text/x-python",
   "name": "python",
   "nbconvert_exporter": "python",
   "pygments_lexer": "ipython3",
   "version": "3.7.0"
  }
 },
 "nbformat": 4,
 "nbformat_minor": 2
}
